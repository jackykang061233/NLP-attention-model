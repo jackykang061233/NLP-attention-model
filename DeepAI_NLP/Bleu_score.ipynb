{
 "cells": [
  {
   "cell_type": "code",
   "execution_count": 1,
   "metadata": {},
   "outputs": [
    {
     "name": "stderr",
     "output_type": "stream",
     "text": [
      "[nltk_data] Downloading package punkt to /Users/kangchieh/nltk_data...\n",
      "[nltk_data]   Package punkt is already up-to-date!\n"
     ]
    },
    {
     "name": "stdout",
     "output_type": "stream",
     "text": [
      "Requirement already satisfied: sacrebleu in /Users/kangchieh/opt/anaconda3/lib/python3.8/site-packages (2.3.1)\n",
      "Requirement already satisfied: regex in /Users/kangchieh/opt/anaconda3/lib/python3.8/site-packages (from sacrebleu) (2020.10.15)\n",
      "Requirement already satisfied: portalocker in /Users/kangchieh/opt/anaconda3/lib/python3.8/site-packages (from sacrebleu) (2.7.0)\n",
      "Requirement already satisfied: tabulate>=0.8.9 in /Users/kangchieh/opt/anaconda3/lib/python3.8/site-packages (from sacrebleu) (0.9.0)\n",
      "Requirement already satisfied: lxml in /Users/kangchieh/opt/anaconda3/lib/python3.8/site-packages (from sacrebleu) (4.6.1)\n",
      "Requirement already satisfied: numpy>=1.17 in /Users/kangchieh/opt/anaconda3/lib/python3.8/site-packages (from sacrebleu) (1.19.2)\n",
      "Requirement already satisfied: colorama in /Users/kangchieh/opt/anaconda3/lib/python3.8/site-packages (from sacrebleu) (0.4.4)\n"
     ]
    }
   ],
   "source": [
    "import numpy as np                  # import numpy to make numerical computations.\n",
    "import nltk                         # import NLTK to handle simple NL tasks like tokenization.\n",
    "nltk.download(\"punkt\")\n",
    "import math\n",
    "from nltk.util import ngrams\n",
    "from collections import Counter     # import a counter.\n",
    "import sacrebleu                    # import sacrebleu in order compute the BLEU score.\n",
    "import matplotlib.pyplot as plt     # import pyplot in order to make some illustrations."
   ]
  },
  {
   "cell_type": "markdown",
   "metadata": {},
   "source": [
    "# Bleu score\n",
    "$$BLEU = BP\\times\\Bigl(\\prod_{i=1}^{4}precision_i\\Bigr)^{(1/4)}$$\n",
    "\n",
    "$$BP = min\\Bigl(1, e^{(1-({ref}/{cand}))}\\Bigr)$$\n",
    "\n",
    "$$precision_i = \\frac {\\sum_{snt \\in{cand}}\\sum_{i\\in{snt}}min\\Bigl(m^{i}_{cand}, m^{i}_{ref}\\Bigr)}{w^{i}_{t}}$$"
   ]
  },
  {
   "cell_type": "markdown",
   "metadata": {},
   "source": [
    "## Example"
   ]
  },
  {
   "cell_type": "markdown",
   "metadata": {},
   "source": [
    "### BP"
   ]
  },
  {
   "cell_type": "code",
   "execution_count": 2,
   "metadata": {},
   "outputs": [
    {
     "data": {
      "image/png": "[encoded data removed]",
      "text/plain": [
       "<Figure size 432x288 with 1 Axes>"
      ]
     },
     "metadata": {
      "needs_background": "light"
     },
     "output_type": "display_data"
    }
   ],
   "source": [
    "ref_length = np.ones(100)\n",
    "can_length = np.linspace(1.5, 0.5, 100)\n",
    "x = ref_length / can_length\n",
    "y = 1 - x\n",
    "y = np.exp(y)\n",
    "y = np.minimum(np.ones(y.shape), y)\n",
    "\n",
    "# Code for in order to make the plot\n",
    "fig, ax = plt.subplots(1)\n",
    "lines = ax.plot(x, y)\n",
    "ax.set(\n",
    "    xlabel=\"Ratio of the length of the reference to the candidate text\",\n",
    "    ylabel=\"Brevity Penalty\",\n",
    ")\n",
    "plt.show()"
   ]
  },
  {
   "cell_type": "markdown",
   "metadata": {},
   "source": [
    "### N-Gram Precision"
   ]
  },
  {
   "cell_type": "code",
   "execution_count": 3,
   "metadata": {},
   "outputs": [
    {
     "data": {
      "image/png": "[encoded data removed]",
      "text/plain": [
       "<Figure size 432x288 with 1 Axes>"
      ]
     },
     "metadata": {
      "needs_background": "light"
     },
     "output_type": "display_data"
    }
   ],
   "source": [
    "# Mocked dataset showing the precision for different n-grams\n",
    "data = {\"1-gram\": 0.8, \"2-gram\": 0.7, \"3-gram\": 0.6, \"4-gram\": 0.5}\n",
    "names = list(data.keys())\n",
    "values = list(data.values())\n",
    "\n",
    "fig, ax = plt.subplots(1)\n",
    "bars = ax.bar(names, values)\n",
    "ax.set(ylabel=\"N-gram precision\")\n",
    "\n",
    "plt.show()"
   ]
  },
  {
   "cell_type": "markdown",
   "metadata": {},
   "source": [
    "## Example Calculations of the BLEU score"
   ]
  },
  {
   "cell_type": "code",
   "execution_count": 4,
   "metadata": {},
   "outputs": [
    {
     "name": "stdout",
     "output_type": "stream",
     "text": [
      "The NASA Opportunity rover is battling a massive dust storm on planet Mars. -> ['the', 'nasa', 'opportunity', 'rover', 'is', 'battling', 'a', 'massive', 'dust', 'storm', 'on', 'planet', 'mars', '.']\n",
      "\n",
      "\n",
      "The Opportunity rover is combating a big sandstorm on planet Mars. -> ['the', 'opportunity', 'rover', 'is', 'combating', 'a', 'big', 'sandstorm', 'on', 'planet', 'mars', '.']\n",
      "\n",
      "\n",
      "A NASA rover is fighting a massive storm on planet Mars. -> ['a', 'nasa', 'rover', 'is', 'fighting', 'a', 'massive', 'storm', 'on', 'planet', 'mars', '.']\n"
     ]
    }
   ],
   "source": [
    "reference = \"The NASA Opportunity rover is battling a massive dust storm on planet Mars.\"\n",
    "candidate_1 = \"The Opportunity rover is combating a big sandstorm on planet Mars.\"\n",
    "candidate_2 = \"A NASA rover is fighting a massive storm on planet Mars.\"\n",
    "\n",
    "tokenized_ref = nltk.word_tokenize(reference.lower())\n",
    "tokenized_cand_1 = nltk.word_tokenize(candidate_1.lower())\n",
    "tokenized_cand_2 = nltk.word_tokenize(candidate_2.lower())\n",
    "\n",
    "print(f\"{reference} -> {tokenized_ref}\")\n",
    "print(\"\\n\")\n",
    "print(f\"{candidate_1} -> {tokenized_cand_1}\")\n",
    "print(\"\\n\")\n",
    "print(f\"{candidate_2} -> {tokenized_cand_2}\")"
   ]
  },
  {
   "cell_type": "markdown",
   "metadata": {},
   "source": [
    "### BP"
   ]
  },
  {
   "cell_type": "code",
   "execution_count": 5,
   "metadata": {},
   "outputs": [],
   "source": [
    "def brevity_penalty(candidate, reference):\n",
    "    ref_length = len(reference)\n",
    "    can_length = len(candidate)\n",
    "\n",
    "    # Brevity Penalty\n",
    "    if ref_length < can_length: # if reference length is less than candidate length\n",
    "        BP = 1 # set BP = 1\n",
    "    else:\n",
    "        penalty = 1 - (ref_length / can_length) # else set BP=exp(1-(ref_length/can_length))\n",
    "        BP = np.exp(penalty)\n",
    "\n",
    "    return BP"
   ]
  },
  {
   "cell_type": "code",
   "execution_count": 12,
   "metadata": {},
   "outputs": [
    {
     "data": {
      "text/plain": [
       "Counter({('i', 'like'): 1,\n",
       "         ('like', 'you'): 1,\n",
       "         ('you', 'you'): 1,\n",
       "         ('you', 'like'): 1,\n",
       "         ('like', 'me'): 1})"
      ]
     },
     "execution_count": 12,
     "metadata": {},
     "output_type": "execute_result"
    }
   ],
   "source": [
    "cand_n_gram = Counter(ngrams([\"i\", \"like\", \"you\", \"you\", \"like\", \"me\"], 2))\n",
    "cand_n_gram"
   ]
  },
  {
   "cell_type": "markdown",
   "metadata": {},
   "source": [
    "### Clipped precision"
   ]
  },
  {
   "cell_type": "code",
   "execution_count": 6,
   "metadata": {},
   "outputs": [],
   "source": [
    "def clipped_precision(candidate, reference):\n",
    "    \"\"\"\n",
    "    Clipped precision function given a original and a machine translated sentences\n",
    "    \"\"\"\n",
    "\n",
    "    clipped_precision_score = []\n",
    "    \n",
    "    for i in range(1, 5):\n",
    "        ref_n_gram = Counter(ngrams(reference,i))        \n",
    "        cand_n_gram = Counter(ngrams(candidate,i))                \n",
    "\n",
    "        c = sum(cand_n_gram.values())        \n",
    "        \n",
    "        for j in cand_n_gram: # for every n-gram up to 4 in candidate text\n",
    "            if j in ref_n_gram: # check if it is in the reference n-gram\n",
    "                if cand_n_gram[j] > ref_n_gram[j]: # if the count of the candidate n-gram is bigger\n",
    "                                                   # than the corresponding count in the reference n-gram,\n",
    "                    cand_n_gram[j] = ref_n_gram[j] # then set the count of the candidate n-gram to be equal\n",
    "                                                   # to the reference n-gram\n",
    "            else:\n",
    "                cand_n_gram[j] = 0 # else set the candidate n-gram equal to zero\n",
    "\n",
    "                        \n",
    "        clipped_precision_score.append(sum(cand_n_gram.values())/c)\n",
    "        \n",
    "    weights =[0.25]*4\n",
    "\n",
    "    s = (w_i * math.log(p_i) for w_i, p_i in zip(weights, clipped_precision_score))\n",
    "\n",
    "    s = math.exp(math.fsum(s))\n",
    "    return s\n"
   ]
  },
  {
   "cell_type": "markdown",
   "metadata": {},
   "source": [
    "### Compute BLEU score"
   ]
  },
  {
   "cell_type": "code",
   "execution_count": 7,
   "metadata": {},
   "outputs": [],
   "source": [
    "def bleu_score(candidate, reference):\n",
    "    BP = brevity_penalty(candidate, reference)\n",
    "    precision = clipped_precision(candidate, reference)\n",
    "    return BP * precision"
   ]
  },
  {
   "cell_type": "markdown",
   "metadata": {},
   "source": [
    "### Test with examples"
   ]
  },
  {
   "cell_type": "code",
   "execution_count": 8,
   "metadata": {},
   "outputs": [
    {
     "name": "stdout",
     "output_type": "stream",
     "text": [
      "Results reference versus candidate 1 our own code BLEU:  27.6\n",
      "Results reference versus candidate 2 our own code BLEU:  35.3\n"
     ]
    }
   ],
   "source": [
    "print(\n",
    "    \"Results reference versus candidate 1 our own code BLEU: \",\n",
    "    round(bleu_score(tokenized_cand_1, tokenized_ref) * 100, 1),\n",
    ")\n",
    "print(\n",
    "    \"Results reference versus candidate 2 our own code BLEU: \",\n",
    "    round(bleu_score(tokenized_cand_2, tokenized_ref) * 100, 1),\n",
    ")"
   ]
  },
  {
   "cell_type": "markdown",
   "metadata": {},
   "source": [
    "### Compare the results from Sacrebleu Library"
   ]
  },
  {
   "cell_type": "code",
   "execution_count": 9,
   "metadata": {},
   "outputs": [
    {
     "name": "stdout",
     "output_type": "stream",
     "text": [
      "Results reference versus candidate 1 sacrebleu library sentence BLEU:  27.6\n",
      "Results reference versus candidate 2 sacrebleu library sentence BLEU:  35.3\n"
     ]
    }
   ],
   "source": [
    "print(\n",
    "    \"Results reference versus candidate 1 sacrebleu library sentence BLEU: \",\n",
    "    round(sacrebleu.sentence_bleu(candidate_1, [reference]).score, 1), \n",
    ")\n",
    "\n",
    "print(\n",
    "    \"Results reference versus candidate 2 sacrebleu library sentence BLEU: \",\n",
    "    round(sacrebleu.sentence_bleu(candidate_2, [reference]).score, 1), \n",
    ")"
   ]
  },
  {
   "cell_type": "markdown",
   "metadata": {},
   "source": [
    "# BLEU computation on a corpus"
   ]
  },
  {
   "cell_type": "code",
   "execution_count": 13,
   "metadata": {},
   "outputs": [],
   "source": [
    "wmt19_src = open(\"./data/data/wmt19_src.txt\", \"r\")\n",
    "wmt19_src_1 = wmt19_src.read()\n",
    "wmt19_src.close()\n",
    "\n",
    "wmt19_ref = open(\"./data/data/wmt19_ref.txt\", \"r\")\n",
    "wmt19_ref_1 = wmt19_ref.read()\n",
    "wmt19_ref.close()\n",
    "\n",
    "wmt19_can = open(\"./data/data/wmt19_can.txt\", \"r\")\n",
    "wmt19_can_1 = wmt19_can.read()\n",
    "wmt19_can.close()\n",
    "\n",
    "tokenized_corpus_src = nltk.word_tokenize(wmt19_src_1.lower())\n",
    "tokenized_corpus_ref = nltk.word_tokenize(wmt19_ref_1.lower())\n",
    "tokenized_corpus_cand = nltk.word_tokenize(wmt19_can_1.lower())"
   ]
  },
  {
   "cell_type": "code",
   "execution_count": 14,
   "metadata": {},
   "outputs": [
    {
     "name": "stdout",
     "output_type": "stream",
     "text": [
      "English source text:\n",
      "\n",
      "\n",
      "﻿Welsh AMs worried about 'looking like muppets'\n",
      "There is consternation among some AMs at a suggestion their title should change to MWPs (Member of the Welsh Parliament).\n",
      " -> ['\\ufeffwelsh', 'ams', 'worried', 'about', \"'looking\", 'like', \"muppets'\", 'there', 'is', 'consternation', 'among', 'some', 'ams', 'at', 'a', 'suggestion', 'their', 'title', 'should', 'change', 'to', 'mwps', '(', 'member', 'of', 'the', 'welsh', 'parliament', ')', '.']\n",
      "\n",
      "\n",
      "German reference translation:\n",
      "\n",
      "\n",
      "﻿Walisische Ageordnete sorgen sich \"wie Dödel auszusehen\"\n",
      "Es herrscht Bestürzung unter einigen Mitgliedern der Versammlung über einen Vorschlag, der ihren Titel zu MWPs (Mitglied der walisischen Parlament) ändern soll.\n",
      " -> ['\\ufeffwalisische', 'ageordnete', 'sorgen', 'sich', '``', 'wie', 'dödel', 'auszusehen', \"''\", 'es', 'herrscht', 'bestürzung', 'unter', 'einigen', 'mitgliedern', 'der', 'versammlung', 'über', 'einen', 'vorschlag', ',', 'der', 'ihren', 'titel', 'zu', 'mwps', '(', 'mitglied', 'der', 'walisischen', 'parlament', ')', 'ändern', 'soll', '.']\n",
      "\n",
      "\n",
      "German machine translation:\n",
      "\n",
      "\n",
      "Walisische AMs machten sich Sorgen, dass sie wie Muppets aussehen könnten\n",
      "Einige AMs sind bestürzt über den Vorschlag, ihren Titel in MWPs (Mitglied des walisischen Parlaments) zu ändern.\n",
      "Es ist aufg -> ['walisische', 'ams', 'machten', 'sich', 'sorgen', ',', 'dass', 'sie', 'wie', 'muppets', 'aussehen', 'könnten', 'einige', 'ams', 'sind', 'bestürzt', 'über', 'den', 'vorschlag', ',', 'ihren', 'titel', 'in', 'mwps', '(', 'mitglied', 'des', 'walisischen', 'parlaments']\n"
     ]
    }
   ],
   "source": [
    "print(\"English source text:\")\n",
    "print(\"\\n\")\n",
    "print(f\"{wmt19_src_1[0:170]} -> {tokenized_corpus_src[0:30]}\")\n",
    "print(\"\\n\")\n",
    "print(\"German reference translation:\")\n",
    "print(\"\\n\")\n",
    "print(f\"{wmt19_ref_1[0:219]} -> {tokenized_corpus_ref[0:35]}\")\n",
    "print(\"\\n\")\n",
    "print(\"German machine translation:\")\n",
    "print(\"\\n\")\n",
    "print(f\"{wmt19_can_1[0:199]} -> {tokenized_corpus_cand[0:29]}\")"
   ]
  },
  {
   "cell_type": "code",
   "execution_count": 15,
   "metadata": {},
   "outputs": [
    {
     "name": "stdout",
     "output_type": "stream",
     "text": [
      "Results reference versus candidate 1 our own BLEU implementation:  43.6\n"
     ]
    }
   ],
   "source": [
    "print(\n",
    "    \"Results reference versus candidate 1 our own BLEU implementation: \",\n",
    "    round(bleu_score(tokenized_corpus_cand, tokenized_corpus_ref) * 100, 1),\n",
    ")"
   ]
  },
  {
   "cell_type": "code",
   "execution_count": 16,
   "metadata": {},
   "outputs": [
    {
     "name": "stdout",
     "output_type": "stream",
     "text": [
      "Results reference versus candidate 1 sacrebleu library BLEU:  43.2\n"
     ]
    }
   ],
   "source": [
    "print(\n",
    "    \"Results reference versus candidate 1 sacrebleu library BLEU: \",\n",
    "    round(sacrebleu.sentence_bleu(wmt19_can_1, [wmt19_ref_1]).score, 1),\n",
    ")"
   ]
  },
  {
   "cell_type": "code",
   "execution_count": null,
   "metadata": {},
   "outputs": [],
   "source": []
  }
 ],
 "metadata": {
  "kernelspec": {
   "display_name": "base",
   "language": "python",
   "name": "python3"
  },
  "language_info": {
   "codemirror_mode": {
    "name": "ipython",
    "version": 3
   },
   "file_extension": ".py",
   "mimetype": "text/x-python",
   "name": "python",
   "nbconvert_exporter": "python",
   "pygments_lexer": "ipython3",
   "version": "3.8.5"
  },
  "orig_nbformat": 4
 },
 "nbformat": 4,
 "nbformat_minor": 2
}
